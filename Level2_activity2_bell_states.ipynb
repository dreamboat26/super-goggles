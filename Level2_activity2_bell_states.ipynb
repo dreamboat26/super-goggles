{
  "nbformat": 4,
  "nbformat_minor": 0,
  "metadata": {
    "colab": {
      "provenance": []
    },
    "kernelspec": {
      "display_name": "Python 3",
      "name": "python3"
    }
  },
  "cells": [
    {
      "cell_type": "code",
      "metadata": {
        "id": "_9sHdPsYgawp"
      },
      "source": [
        "!pip install qiskit"
      ],
      "execution_count": null,
      "outputs": []
    },
    {
      "cell_type": "markdown",
      "metadata": {
        "id": "FRKPCJHJpo3z"
      },
      "source": [
        "# Entanglement"
      ]
    },
    {
      "cell_type": "markdown",
      "metadata": {
        "id": "rlckxzx2qG7d"
      },
      "source": [
        "An entangled state is the one that cannot be expressed as a tensor product of the individual single qubit states. Such an entangled state is said to exhibit quantum correlations. Maximally entangled two qubit states are\n",
        "\\begin{eqnarray}\n",
        "|\\Psi_{0}\\rangle &=& \\frac{1}{\\sqrt{2}} \\left( |00\\rangle + |11 \\rangle \\right) \\\\\n",
        "|\\Psi_{1}\\rangle &=& \\frac{1}{\\sqrt{2}} \\left( |01\\rangle + |10 \\rangle \\right) \\\\\n",
        "|\\Psi_{2}\\rangle &=& \\frac{1}{\\sqrt{2}} \\left( |00\\rangle - |11 \\rangle \\right) \\\\\n",
        "|\\Psi_{3}\\rangle &=& \\frac{1}{\\sqrt{2}} \\left( |01\\rangle - |10 \\rangle \\right) \\\\.\n",
        "\\end{eqnarray}\n",
        "These states form a 'Bell basis', a set of 4 orthonormal 2-qubit entangled states."
      ]
    },
    {
      "cell_type": "code",
      "metadata": {
        "id": "GSpVcGF0qIFf"
      },
      "source": [
        "import numpy as np\n",
        "import matplotlib as mpl\n",
        "import matplotlib.pyplot as plt\n",
        "import time\n",
        "\n",
        "#Import qiskit libraries\n",
        "import qiskit\n",
        "from qiskit import QuantumRegister, ClassicalRegister, QuantumCircuit, execute, Aer, IBMQ\n",
        "from qiskit.compiler import transpile, assemble\n",
        "from qiskit.tools.jupyter import *\n",
        "from qiskit.visualization import *"
      ],
      "execution_count": null,
      "outputs": []
    },
    {
      "cell_type": "markdown",
      "metadata": {
        "id": "wpixoSmFaM9l"
      },
      "source": [
        "Follow the steps of the **circuit assigned to your cohort** below to generate one of the four Bell states. **Circuit 1** is shown as an example to you."
      ]
    },
    {
      "cell_type": "markdown",
      "metadata": {
        "id": "fJs4gh5oqVZj"
      },
      "source": [
        "> ***Circuit 1.*** Construct a simple circuit which generates the entangled state $\\vert\\Psi_{0}\\rangle=\\frac{1}{\\sqrt{2}}\\left(\\vert00\\rangle+\\vert11\\rangle\\right)$.\n",
        "1. Initialize two qubits (*qreg_q*) in the QuantumRegister\n",
        "2. Initialize two classical bits (*creg_c*) in the ClassicalRegister.\n",
        "3. Initialize QuantumCircuit called *circuit*.\n",
        "4. Apply Hadamard gate to qubit *q_0*.\n",
        "5. Apply CNOT gate to qubit *q_1* with qubit *q_0* as control bit.\n",
        "6. Measure the output on both qubits.\n",
        "\n",
        "\n"
      ]
    },
    {
      "cell_type": "code",
      "metadata": {
        "id": "eHuVTh8sqWSf"
      },
      "source": [
        "##Initialize the QuantumRegister, ClassicalRegister and QuantumCircuit\n",
        "qreg_q = QuantumRegister(2, 'q')\n",
        "creg_c = ClassicalRegister(2, 'c')\n",
        "circuit = QuantumCircuit(qreg_q, creg_c)\n",
        "\n",
        "##Reset all qubits\n",
        "circuit.reset(qreg_q[0])\n",
        "circuit.reset(qreg_q[1])\n",
        "\n",
        "##Build the circuit as per specifications\n",
        "circuit.h(qreg_q[0])\n",
        "circuit.cx(qreg_q[0], qreg_q[1])\n",
        "circuit.measure(qreg_q[0], creg_c[0])\n",
        "circuit.measure(qreg_q[1], creg_c[1])\n",
        "\n",
        "##Visualize the circuit\n",
        "circuit.draw()"
      ],
      "execution_count": null,
      "outputs": []
    },
    {
      "cell_type": "markdown",
      "metadata": {
        "id": "CLH4SlZlq-b5"
      },
      "source": [
        "Let's visualize what state we get after applying measurement. Note that this is just one of the possible output states."
      ]
    },
    {
      "cell_type": "code",
      "metadata": {
        "id": "FOKbgXuVXlI_"
      },
      "source": [
        "##Bloch sphere after measurement using statevector_simulator backend\n",
        "\n",
        "simulator = Aer.get_backend('statevector_simulator')\n",
        "job = execute(circuit, simulator, shots=500)\n",
        "result = job.result()\n",
        "counts = result.get_counts(circuit)\n",
        "plot_bloch_multivector(result.get_statevector())"
      ],
      "execution_count": null,
      "outputs": []
    },
    {
      "cell_type": "markdown",
      "metadata": {
        "id": "eYR-irqNYq3r"
      },
      "source": [
        "Now we use IBM simulators (Aer: qasm_simulator) to generate the histogram of all possible output states of the circuit constructed above."
      ]
    },
    {
      "cell_type": "code",
      "metadata": {
        "id": "3zQMm7rPrDJ-"
      },
      "source": [
        "##qasm_simulator backend with histogram\n",
        "\n",
        "simulator = Aer.get_backend('qasm_simulator')\n",
        "job = execute(circuit, simulator, shots=1200)\n",
        "result = job.result()\n",
        "counts = result.get_counts(circuit)\n",
        "print(\"\\nTotal count for 00 and 11 are:\",counts)\n",
        "plot_histogram(counts)"
      ],
      "execution_count": null,
      "outputs": []
    },
    {
      "cell_type": "markdown",
      "metadata": {
        "id": "GWt_Euem80nH"
      },
      "source": [
        "Now your turn to build one of the circuits below."
      ]
    },
    {
      "cell_type": "markdown",
      "metadata": {
        "id": "E9zNutMl8tqr"
      },
      "source": [
        "> ***Circuit 2.*** Construct a simple circuit which generates the entangled state $\\vert\\Psi_{1}\\rangle=\\frac{1}{\\sqrt{2}}\\left(\\vert01\\rangle+\\vert10\\rangle\\right)$.\n",
        "\n",
        "* Follow steps 1-5 from Circuit 1.\n",
        "* Add X gate to *q_0*.\n",
        "* Measure\n",
        "\n",
        "> ***Circuit 3.*** Construct a simple circuit which generates the entangled state $\\vert\\Psi_{2}\\rangle=\\frac{1}{\\sqrt{2}}\\left(\\vert00\\rangle-\\vert11\\rangle\\right)$.\n",
        "\n",
        "* Follow steps 1-5 from Circuit 1.\n",
        "* Add Z gate to *q_1*.\n",
        "* Measure\n",
        "\n",
        "> ***Circuit 4.*** Construct a simple circuit which generates the entangled state $\\vert\\Psi_{3}\\rangle=\\frac{1}{\\sqrt{2}}\\left(\\vert01\\rangle-\\vert10\\rangle\\right)$.\n",
        "\n",
        "* Follow steps 1-5 from Circuit 1.\n",
        "* Add X gate to *q_0*.\n",
        "* Add Z gate to *q_1*.\n",
        "* Measure"
      ]
    },
    {
      "cell_type": "code",
      "metadata": {
        "id": "hRvJsvgC8y2v"
      },
      "source": [
        "##Initialize the QuantumRegister, ClassicalRegister and QuantumCircuit\n",
        "\n",
        "##Reset all qubits\n",
        "\n",
        "##Build the circuit as per specifications\n",
        "\n",
        "##Visualize the circuit\n"
      ],
      "execution_count": null,
      "outputs": []
    },
    {
      "cell_type": "markdown",
      "metadata": {
        "id": "KWp2bOJy-p7m"
      },
      "source": [
        "Use the \"statevector_simulator\" backend and plot the Bloch sphere of the state after measurement."
      ]
    },
    {
      "cell_type": "code",
      "metadata": {
        "id": "_t4O8egH-_6I"
      },
      "source": [
        "#Bloch sphere after measurement using statevector_simulator backend\n"
      ],
      "execution_count": null,
      "outputs": []
    },
    {
      "cell_type": "markdown",
      "metadata": {
        "id": "F7WBGYhw_g6P"
      },
      "source": [
        "Use the \"qasm_simulator\" backend to plot the histogram of the possible outputs."
      ]
    },
    {
      "cell_type": "code",
      "metadata": {
        "id": "96DtKmW7_sD0"
      },
      "source": [
        "##qasm_simulator backend with histogram\n"
      ],
      "execution_count": null,
      "outputs": []
    },
    {
      "cell_type": "markdown",
      "metadata": {
        "id": "At2LKMbsShfS"
      },
      "source": [
        "#Run circuit on quantum computer (Homework)"
      ]
    },
    {
      "cell_type": "markdown",
      "metadata": {
        "id": "Rwy0Zs7RS8Hk"
      },
      "source": [
        "> ***Exercise.***\n",
        "Run the circuit on the IBM quantum computer. Check the accuracy of your output by comparing it with the result of your simulation."
      ]
    },
    {
      "cell_type": "markdown",
      "metadata": {
        "id": "7e4HWR6tS_sr"
      },
      "source": [
        "You will have to enter your IBM account information in the code."
      ]
    },
    {
      "cell_type": "code",
      "metadata": {
        "id": "AYqYDeYfTHG1"
      },
      "source": [
        "# Enter your IBM API token in place of the '*****' below\n",
        "IBMQ.save_account('*********')\n",
        "IBMQ.load_account()"
      ],
      "execution_count": null,
      "outputs": []
    },
    {
      "cell_type": "markdown",
      "metadata": {
        "id": "ypnteLeGTyfo"
      },
      "source": [
        "After the account is successfully loaded, we can run the circuit on a quantum computer. The code below finds the least busy quantum computer and runs your circuit on it. It also shows the status of the code whether it is still running or it has been completed,"
      ]
    },
    {
      "cell_type": "code",
      "metadata": {
        "colab": {
          "background_save": true
        },
        "id": "cOR5GR-drUx1"
      },
      "source": [
        "##Run on quantum computer\n",
        "start_time=time.time()\n",
        "\n",
        "from qiskit.providers.ibmq import least_busy\n",
        "shots = 500\n",
        "\n",
        "# Get the least busy backend\n",
        "provider = IBMQ.get_provider(hub='ibm-q')\n",
        "backend = least_busy(provider.backends(filters=lambda x: x.configuration().n_qubits >= 2\n",
        "                                       and not x.configuration().simulator\n",
        "                                       and x.status().operational==True))\n",
        "print(\"least busy backend: \", backend)\n",
        "# Run our circuit\n",
        "job = execute(circuit, backend=backend, shots=shots)\n",
        "\n",
        "from qiskit.tools.monitor import job_monitor\n",
        "job_monitor(job)"
      ],
      "execution_count": null,
      "outputs": []
    },
    {
      "cell_type": "markdown",
      "metadata": {
        "id": "uUqm2s3CUgbE"
      },
      "source": [
        "The code below plots the histogram of the results from the quantu computer."
      ]
    },
    {
      "cell_type": "code",
      "metadata": {
        "id": "r9xJFOCRrXVF"
      },
      "source": [
        "result = job.result()\n",
        "counts = result.get_counts(circuit)\n",
        "plot_histogram(counts)"
      ],
      "execution_count": null,
      "outputs": []
    },
    {
      "cell_type": "markdown",
      "metadata": {
        "id": "fYsJxs0IU86r"
      },
      "source": [
        "If we compare the results of the histogram generated by the quantum computer with the histogram generated using just the simulator, we get more than just the expected states in the histogram above. This is because of **quantum noise** that comes up in the quantum computer.\n",
        "\n",
        "Suppose one of the \"correct\" results we expected is state \"11\" then the accuracy of the quantum computer can be calculated using the code below."
      ]
    },
    {
      "cell_type": "code",
      "metadata": {
        "id": "K518ZnESraWt"
      },
      "source": [
        "#In place of \"11\", enter one of the states you expected to come up when you ran the code on the simulator\n",
        "correct_results = result.get_counts(circuit)[\"11\"]\n",
        "accuracy = (correct_results/shots)*100\n",
        "print(\"Accuracy = %.2f%%\" % accuracy)\n",
        "\n",
        "time_for_run=(time.time()-start_time)/60\n",
        "\n",
        "print(\"Time for run:\",time_for_run)"
      ],
      "execution_count": null,
      "outputs": []
    }
  ]
}